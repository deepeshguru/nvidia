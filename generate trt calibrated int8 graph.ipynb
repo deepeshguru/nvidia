{
 "cells": [
  {
   "cell_type": "code",
   "execution_count": 1,
   "metadata": {},
   "outputs": [],
   "source": [
    "import tensorflow as tf\n",
    "# Load and convert a frozen graph\n",
    "graph_def = tf.GraphDef()\n",
    "with tf.gfile.GFile(\"chest_model.pb\", 'rb') as f:\n",
    "    graph_def.ParseFromString(f.read())"
   ]
  },
  {
   "cell_type": "code",
   "execution_count": 4,
   "metadata": {},
   "outputs": [],
   "source": [
    "from tensorflow.python.compiler.tensorrt import trt_convert as trt\n",
    "from tensorflow.keras.applications.inception_resnet_v2 import preprocess_input\n",
    "from tensorflow.keras.preprocessing import image\n",
    "import numpy as np\n",
    "import os\n",
    "files = os.listdir('chest_xray/test/NORMAL/')\n",
    "img1 = image.load_img(r'chest_xray/test/NORMAL/' + files[0], target_size=(299, 299))\n",
    "img_array1 = image.img_to_array(img1)\n",
    "img_array_expanded_dims1 = np.expand_dims(img_array1, axis=0)\n",
    "input_img = preprocess_input(img_array_expanded_dims1)\n",
    "\n",
    "\n",
    "converter = trt.TrtGraphConverter(\n",
    "    input_graph_def=graph_def,\n",
    "    nodes_blacklist=['dense_1/Sigmoid'],\n",
    "    precision_mode='INT8',\n",
    "    use_calibration=True)\n",
    "frozen_graph = converter.convert()\n"
   ]
  },
  {
   "cell_type": "code",
   "execution_count": 5,
   "metadata": {},
   "outputs": [],
   "source": [
    "frozen_graph = converter.calibrate(\n",
    "    fetch_names=['dense_1/Sigmoid'],\n",
    "    num_runs=1,\n",
    "    feed_dict_fn=lambda: {'input_1:0': input_img})\n"
   ]
  },
  {
   "cell_type": "code",
   "execution_count": 8,
   "metadata": {},
   "outputs": [],
   "source": [
    "from tensorflow.python.platform import gfile\n",
    "with gfile.FastGFile(\"chest_TensorRT_model_88.pb\", 'wb') as f:\n",
    "    f.write(frozen_graph.SerializeToString())"
   ]
  },
  {
   "cell_type": "code",
   "execution_count": null,
   "metadata": {},
   "outputs": [],
   "source": []
  }
 ],
 "metadata": {
  "kernelspec": {
   "display_name": "Python 3",
   "language": "python",
   "name": "python3"
  },
  "language_info": {
   "codemirror_mode": {
    "name": "ipython",
    "version": 3
   },
   "file_extension": ".py",
   "mimetype": "text/x-python",
   "name": "python",
   "nbconvert_exporter": "python",
   "pygments_lexer": "ipython3",
   "version": "3.6.8"
  }
 },
 "nbformat": 4,
 "nbformat_minor": 2
}
